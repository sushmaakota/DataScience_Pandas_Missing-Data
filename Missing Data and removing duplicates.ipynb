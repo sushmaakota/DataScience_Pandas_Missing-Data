{
 "cells": [
  {
   "cell_type": "markdown",
   "metadata": {},
   "source": [
    "# **Missing Data and Duplicates removal**\n"
   ]
  },
  {
   "cell_type": "code",
   "execution_count": 19,
   "metadata": {},
   "outputs": [],
   "source": [
    "import pandas as pd\n",
    "import numpy as np"
   ]
  },
  {
   "cell_type": "markdown",
   "metadata": {},
   "source": [
    "Load the survey dataset into a dataframe.\n"
   ]
  },
  {
   "cell_type": "code",
   "execution_count": 4,
   "metadata": {},
   "outputs": [
    {
     "name": "stdout",
     "output_type": "stream",
     "text": [
      "       Respondent                      MainBranch Hobbyist  \\\n",
      "0               4  I am a developer by profession       No   \n",
      "1               9  I am a developer by profession      Yes   \n",
      "2              13  I am a developer by profession      Yes   \n",
      "3              16  I am a developer by profession      Yes   \n",
      "4              17  I am a developer by profession      Yes   \n",
      "...           ...                             ...      ...   \n",
      "11547       25136  I am a developer by profession      Yes   \n",
      "11548       25137  I am a developer by profession      Yes   \n",
      "11549       25138  I am a developer by profession      Yes   \n",
      "11550       25141  I am a developer by profession      Yes   \n",
      "11551       25142  I am a developer by profession      Yes   \n",
      "\n",
      "                                             OpenSourcer  \\\n",
      "0                                                  Never   \n",
      "1                             Once a month or more often   \n",
      "2      Less than once a month but more than once per ...   \n",
      "3                                                  Never   \n",
      "4      Less than once a month but more than once per ...   \n",
      "...                                                  ...   \n",
      "11547                                              Never   \n",
      "11548                                              Never   \n",
      "11549                            Less than once per year   \n",
      "11550  Less than once a month but more than once per ...   \n",
      "11551  Less than once a month but more than once per ...   \n",
      "\n",
      "                                              OpenSource          Employment  \\\n",
      "0      The quality of OSS and closed source software ...  Employed full-time   \n",
      "1      The quality of OSS and closed source software ...  Employed full-time   \n",
      "2      OSS is, on average, of HIGHER quality than pro...  Employed full-time   \n",
      "3      The quality of OSS and closed source software ...  Employed full-time   \n",
      "4      The quality of OSS and closed source software ...  Employed full-time   \n",
      "...                                                  ...                 ...   \n",
      "11547  OSS is, on average, of HIGHER quality than pro...  Employed full-time   \n",
      "11548  The quality of OSS and closed source software ...  Employed full-time   \n",
      "11549  The quality of OSS and closed source software ...  Employed full-time   \n",
      "11550  OSS is, on average, of LOWER quality than prop...  Employed full-time   \n",
      "11551  OSS is, on average, of HIGHER quality than pro...  Employed full-time   \n",
      "\n",
      "              Country Student  \\\n",
      "0       United States      No   \n",
      "1         New Zealand      No   \n",
      "2       United States      No   \n",
      "3      United Kingdom      No   \n",
      "4           Australia      No   \n",
      "...               ...     ...   \n",
      "11547   United States      No   \n",
      "11548          Poland      No   \n",
      "11549   United States      No   \n",
      "11550     Switzerland      No   \n",
      "11551  United Kingdom      No   \n",
      "\n",
      "                                                 EdLevel  \\\n",
      "0               Bachelor’s degree (BA, BS, B.Eng., etc.)   \n",
      "1      Some college/university study without earning ...   \n",
      "2            Master’s degree (MA, MS, M.Eng., MBA, etc.)   \n",
      "3            Master’s degree (MA, MS, M.Eng., MBA, etc.)   \n",
      "4               Bachelor’s degree (BA, BS, B.Eng., etc.)   \n",
      "...                                                  ...   \n",
      "11547        Master’s degree (MA, MS, M.Eng., MBA, etc.)   \n",
      "11548        Master’s degree (MA, MS, M.Eng., MBA, etc.)   \n",
      "11549        Master’s degree (MA, MS, M.Eng., MBA, etc.)   \n",
      "11550  Secondary school (e.g. American high school, G...   \n",
      "11551          Other doctoral degree (Ph.D, Ed.D., etc.)   \n",
      "\n",
      "                                          UndergradMajor  ...  \\\n",
      "0      Computer science, computer engineering, or sof...  ...   \n",
      "1      Computer science, computer engineering, or sof...  ...   \n",
      "2      Computer science, computer engineering, or sof...  ...   \n",
      "3                                                    NaN  ...   \n",
      "4      Computer science, computer engineering, or sof...  ...   \n",
      "...                                                  ...  ...   \n",
      "11547  Computer science, computer engineering, or sof...  ...   \n",
      "11548  Computer science, computer engineering, or sof...  ...   \n",
      "11549  Computer science, computer engineering, or sof...  ...   \n",
      "11550                                                NaN  ...   \n",
      "11551  A natural science (ex. biology, chemistry, phy...  ...   \n",
      "\n",
      "                                  WelcomeChange  \\\n",
      "0       Just as welcome now as I felt last year   \n",
      "1       Just as welcome now as I felt last year   \n",
      "2      Somewhat more welcome now than last year   \n",
      "3       Just as welcome now as I felt last year   \n",
      "4       Just as welcome now as I felt last year   \n",
      "...                                         ...   \n",
      "11547   Just as welcome now as I felt last year   \n",
      "11548     A lot more welcome now than last year   \n",
      "11549     A lot more welcome now than last year   \n",
      "11550  Somewhat less welcome now than last year   \n",
      "11551   Just as welcome now as I felt last year   \n",
      "\n",
      "                                            SONewContent   Age Gender Trans  \\\n",
      "0      Tech articles written by other developers;Indu...  22.0    Man    No   \n",
      "1                                                    NaN  23.0    Man    No   \n",
      "2      Tech articles written by other developers;Cour...  28.0    Man    No   \n",
      "3      Tech articles written by other developers;Indu...  26.0    Man    No   \n",
      "4      Tech articles written by other developers;Indu...  29.0    Man    No   \n",
      "...                                                  ...   ...    ...   ...   \n",
      "11547  Tech articles written by other developers;Cour...  36.0    Man    No   \n",
      "11548  Tech articles written by other developers;Tech...  25.0    Man    No   \n",
      "11549  Tech articles written by other developers;Indu...  34.0    Man    No   \n",
      "11550                                                NaN  25.0    Man    No   \n",
      "11551  Tech articles written by other developers;Tech...  30.0    Man    No   \n",
      "\n",
      "                     Sexuality                              Ethnicity  \\\n",
      "0      Straight / Heterosexual           White or of European descent   \n",
      "1                     Bisexual           White or of European descent   \n",
      "2      Straight / Heterosexual           White or of European descent   \n",
      "3      Straight / Heterosexual           White or of European descent   \n",
      "4      Straight / Heterosexual  Hispanic or Latino/Latina;Multiracial   \n",
      "...                        ...                                    ...   \n",
      "11547  Straight / Heterosexual           White or of European descent   \n",
      "11548  Straight / Heterosexual           White or of European descent   \n",
      "11549  Straight / Heterosexual           White or of European descent   \n",
      "11550  Straight / Heterosexual           White or of European descent   \n",
      "11551                 Bisexual           White or of European descent   \n",
      "\n",
      "      Dependents           SurveyLength                  SurveyEase  \n",
      "0             No  Appropriate in length                        Easy  \n",
      "1             No  Appropriate in length  Neither easy nor difficult  \n",
      "2            Yes  Appropriate in length                        Easy  \n",
      "3             No  Appropriate in length  Neither easy nor difficult  \n",
      "4             No  Appropriate in length                        Easy  \n",
      "...          ...                    ...                         ...  \n",
      "11547         No  Appropriate in length                   Difficult  \n",
      "11548         No  Appropriate in length  Neither easy nor difficult  \n",
      "11549        Yes               Too long                        Easy  \n",
      "11550         No  Appropriate in length                        Easy  \n",
      "11551         No  Appropriate in length                        Easy  \n",
      "\n",
      "[11552 rows x 85 columns]\n"
     ]
    }
   ],
   "source": [
    "df=pd.read_csv('m1_survey_data.csv')\n",
    "print(df)"
   ]
  },
  {
   "cell_type": "markdown",
   "metadata": {},
   "source": [
    "## Finding duplicates\n"
   ]
  },
  {
   "cell_type": "markdown",
   "metadata": {},
   "source": [
    " Find how many duplicate rows (count) exist in the dataframe.\n"
   ]
  },
  {
   "cell_type": "code",
   "execution_count": 5,
   "metadata": {},
   "outputs": [
    {
     "name": "stdout",
     "output_type": "stream",
     "text": [
      "154\n"
     ]
    }
   ],
   "source": [
    "# your code goes here\n",
    "print(df.duplicated().sum())"
   ]
  },
  {
   "cell_type": "markdown",
   "metadata": {},
   "source": [
    "## Removing duplicates\n"
   ]
  },
  {
   "cell_type": "markdown",
   "metadata": {},
   "source": [
    "Remove the duplicate rows from the dataframe. Update in actual Dataframe\n"
   ]
  },
  {
   "cell_type": "code",
   "execution_count": 6,
   "metadata": {},
   "outputs": [
    {
     "name": "stdout",
     "output_type": "stream",
     "text": [
      "None\n"
     ]
    }
   ],
   "source": [
    "# your code goes here\n",
    "print(df.drop_duplicates(inplace=True))"
   ]
  },
  {
   "cell_type": "markdown",
   "metadata": {},
   "source": [
    "Verify if duplicates were actually dropped.\n"
   ]
  },
  {
   "cell_type": "code",
   "execution_count": 7,
   "metadata": {},
   "outputs": [
    {
     "name": "stdout",
     "output_type": "stream",
     "text": [
      "0\n"
     ]
    }
   ],
   "source": [
    "# your code goes here\n",
    "print(df.duplicated().sum())"
   ]
  },
  {
   "cell_type": "markdown",
   "metadata": {},
   "source": [
    "## Finding Missing values\n"
   ]
  },
  {
   "cell_type": "markdown",
   "metadata": {},
   "source": [
    "Find the missing values for all columns.\n"
   ]
  },
  {
   "cell_type": "code",
   "execution_count": 32,
   "metadata": {},
   "outputs": [
    {
     "name": "stdout",
     "output_type": "stream",
     "text": [
      "Respondent                        0\n",
      "MainBranch                        0\n",
      "Hobbyist                          0\n",
      "OpenSourcer                       0\n",
      "OpenSource                       81\n",
      "                               ... \n",
      "Ethnicity                       675\n",
      "Dependents                      140\n",
      "SurveyLength                     19\n",
      "SurveyEase                       14\n",
      "NormalizedAnnualCompensation    815\n",
      "Length: 86, dtype: int64\n"
     ]
    }
   ],
   "source": [
    "# your code goes here\n",
    "print(df.isnull().sum())\n"
   ]
  },
  {
   "cell_type": "markdown",
   "metadata": {},
   "source": [
    "Find out how many rows are missing in the column 'WorkLoc', EdLevel and Country\n"
   ]
  },
  {
   "cell_type": "code",
   "execution_count": 9,
   "metadata": {},
   "outputs": [
    {
     "name": "stdout",
     "output_type": "stream",
     "text": [
      "32\n",
      "112\n",
      "0\n"
     ]
    }
   ],
   "source": [
    "# your code goes here\n",
    "print(df['WorkLoc'].isnull().sum())\n",
    "print(df['EdLevel'].isnull().sum())\n",
    "print(df['Country'].isnull().sum())"
   ]
  },
  {
   "cell_type": "markdown",
   "metadata": {},
   "source": [
    "## Imputing missing values\n"
   ]
  },
  {
   "cell_type": "markdown",
   "metadata": {},
   "source": [
    "Find the  value counts and unique values for the column WorkLoc, Employement, undermajor.\n"
   ]
  },
  {
   "cell_type": "code",
   "execution_count": 10,
   "metadata": {},
   "outputs": [
    {
     "name": "stdout",
     "output_type": "stream",
     "text": [
      "Office                                            6806\n",
      "Home                                              3589\n",
      "Other place, such as a coworking space or cafe     971\n",
      "Name: WorkLoc, dtype: int64\n"
     ]
    }
   ],
   "source": [
    "# your code goes here\n",
    "print(df['WorkLoc'].value_counts())"
   ]
  },
  {
   "cell_type": "markdown",
   "metadata": {},
   "source": [
    "Identify the value that is most frequent (majority) in the WorkLoc column.\n"
   ]
  },
  {
   "cell_type": "code",
   "execution_count": 16,
   "metadata": {},
   "outputs": [
    {
     "name": "stdout",
     "output_type": "stream",
     "text": [
      "131596.7316197316\n",
      "57745.0\n"
     ]
    }
   ],
   "source": [
    "#make a note of the majority value here, for future reference\n",
    "print(df['ConvertedComp'].mean())\n",
    "print(df['ConvertedComp'].median())"
   ]
  },
  {
   "cell_type": "markdown",
   "metadata": {},
   "source": [
    "Impute (replace) all the empty rows in the column WorkLoc with the value that you have identified as majority.\n"
   ]
  },
  {
   "cell_type": "code",
   "execution_count": 33,
   "metadata": {},
   "outputs": [
    {
     "name": "stdout",
     "output_type": "stream",
     "text": [
      "False    11398\n",
      "Name: WorkLoc, dtype: int64\n",
      "Empty DataFrame\n",
      "Columns: [Respondent, WorkLoc]\n",
      "Index: []\n",
      "None\n"
     ]
    }
   ],
   "source": [
    "# your code goes here\n",
    "workloc_highest = 'Office'\n",
    "missing_data = df.isnull()\n",
    "print( missing_data['WorkLoc'].value_counts())\n",
    "print(df[missing_data['WorkLoc']][['Respondent','WorkLoc']].head(10))\n",
    "print(df['WorkLoc'].replace(np.nan, workloc_highest, inplace=True))"
   ]
  },
  {
   "cell_type": "markdown",
   "metadata": {},
   "source": [
    "After imputation there should ideally not be any empty rows in the WorkLoc column.\n"
   ]
  },
  {
   "cell_type": "markdown",
   "metadata": {},
   "source": [
    "Verify if imputing was successful.\n"
   ]
  },
  {
   "cell_type": "code",
   "execution_count": 34,
   "metadata": {},
   "outputs": [
    {
     "name": "stdout",
     "output_type": "stream",
     "text": [
      "False    11398\n",
      "Name: WorkLoc, dtype: int64\n"
     ]
    }
   ],
   "source": [
    "# your code goes here\n",
    "print(missing_data['WorkLoc'].value_counts())"
   ]
  }
 ],
 "metadata": {
  "kernelspec": {
   "display_name": "Python 3 (ipykernel)",
   "language": "python",
   "name": "python3"
  },
  "language_info": {
   "codemirror_mode": {
    "name": "ipython",
    "version": 3
   },
   "file_extension": ".py",
   "mimetype": "text/x-python",
   "name": "python",
   "nbconvert_exporter": "python",
   "pygments_lexer": "ipython3",
   "version": "3.9.13"
  }
 },
 "nbformat": 4,
 "nbformat_minor": 4
}
